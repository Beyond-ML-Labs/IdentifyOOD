{
 "cells": [
  {
   "cell_type": "code",
   "execution_count": 1,
   "id": "1603542b",
   "metadata": {},
   "outputs": [],
   "source": [
    "from sklearn.metrics import accuracy_score, classification_report, confusion_matrix\n",
    "import tensorflow as tf\n",
    "import numpy as np"
   ]
  },
  {
   "cell_type": "code",
   "execution_count": 11,
   "id": "80c56aa0",
   "metadata": {},
   "outputs": [],
   "source": [
    "(x_train, y_train), (x_test, y_test) = tf.keras.datasets.mnist.load_data()\n",
    "x_train = x_train/255\n",
    "x_test = x_test/255\n",
    "\n",
    "x_trains = [\n",
    "    np.array(x_train[y_train != i], dtype = 'float64') for i in range(10)\n",
    "]\n",
    "y_trains = [\n",
    "    np.array(y_train[y_train != i], dtype = 'float64') for i in range(10)\n",
    "]\n",
    "\n",
    "def build_model():\n",
    "\n",
    "    input_layer = tf.keras.layers.Input(x_train.shape[1:])\n",
    "    x = tf.keras.layers.Flatten()(input_layer)\n",
    "    x = tf.keras.layers.Dense(100, activation = 'relu')(x)\n",
    "    ood_x = tf.keras.layers.Dense(100, activation = 'relu')(x)\n",
    "    \n",
    "    for _ in range(4):\n",
    "        x = tf.keras.layers.Dense(100, activation = 'relu')(x)\n",
    "        ood_x = tf.keras.layers.Concatenate()([ood_x, x])\n",
    "        ood_x = tf.keras.layers.Dense(100, activation = 'relu')(ood_x)\n",
    "        \n",
    "    regular_output = tf.keras.layers.Dense(10, activation = 'softmax')(x)\n",
    "    ood_output = tf.keras.layers.Dense(28*28, activation = 'sigmoid')(ood_x)\n",
    "    \n",
    "    model = tf.keras.models.Model(input_layer, [regular_output, ood_output])\n",
    "    model.compile(loss = ['sparse_categorical_crossentropy', 'cosine_similarity'], optimizer = 'adam')\n",
    "    return model"
   ]
  },
  {
   "cell_type": "code",
   "execution_count": 14,
   "id": "c8115262",
   "metadata": {},
   "outputs": [
    {
     "name": "stderr",
     "output_type": "stream",
     "text": [
      "2021-12-09 09:59:05.055422: I tensorflow/core/grappler/optimizers/custom_graph_optimizer_registry.cc:112] Plugin optimizer for device_type GPU is enabled.\n"
     ]
    },
    {
     "name": "stdout",
     "output_type": "stream",
     "text": [
      "1690/1690 [==============================] - 14s 8ms/step - loss: -27.7459 - dense_34_loss: 0.2540 - dense_35_loss: -28.0000\n"
     ]
    },
    {
     "data": {
      "text/plain": [
       "<keras.callbacks.History at 0x15c9ac7f0>"
      ]
     },
     "execution_count": 14,
     "metadata": {},
     "output_type": "execute_result"
    }
   ],
   "source": [
    "model = build_model()\n",
    "model.fit(x_trains[0], y_trains[0])"
   ]
  },
  {
   "cell_type": "code",
   "execution_count": 15,
   "id": "fc9d20f9",
   "metadata": {},
   "outputs": [
    {
     "ename": "ModuleNotFoundError",
     "evalue": "No module named 'matplotlib'",
     "output_type": "error",
     "traceback": [
      "\u001b[0;31m---------------------------------------------------------------------------\u001b[0m",
      "\u001b[0;31mModuleNotFoundError\u001b[0m                       Traceback (most recent call last)",
      "\u001b[0;32m/var/folders/wq/ddbkp4c90r50fgjpjgf0qf680000gn/T/ipykernel_2313/322768712.py\u001b[0m in \u001b[0;36m<module>\u001b[0;34m\u001b[0m\n\u001b[0;32m----> 1\u001b[0;31m \u001b[0;32mimport\u001b[0m \u001b[0mmatplotlib\u001b[0m\u001b[0;34m.\u001b[0m\u001b[0mpyplot\u001b[0m \u001b[0;32mas\u001b[0m \u001b[0mplt\u001b[0m\u001b[0;34m\u001b[0m\u001b[0;34m\u001b[0m\u001b[0m\n\u001b[0m",
      "\u001b[0;31mModuleNotFoundError\u001b[0m: No module named 'matplotlib'"
     ]
    }
   ],
   "source": [
    "import matplotlib.pyplot as plt"
   ]
  },
  {
   "cell_type": "code",
   "execution_count": null,
   "id": "989e54ce",
   "metadata": {},
   "outputs": [],
   "source": []
  }
 ],
 "metadata": {
  "kernelspec": {
   "display_name": "Python 3 (ipykernel)",
   "language": "python",
   "name": "python3"
  },
  "language_info": {
   "codemirror_mode": {
    "name": "ipython",
    "version": 3
   },
   "file_extension": ".py",
   "mimetype": "text/x-python",
   "name": "python",
   "nbconvert_exporter": "python",
   "pygments_lexer": "ipython3",
   "version": "3.9.7"
  }
 },
 "nbformat": 4,
 "nbformat_minor": 5
}
